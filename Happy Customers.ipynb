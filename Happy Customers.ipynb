{
 "cells": [
  {
   "cell_type": "markdown",
   "metadata": {},
   "source": [
    "<h1 align=center>Happy Customers of ACME</h1>"
   ]
  },
  {
   "cell_type": "markdown",
   "metadata": {},
   "source": [
    "## Step 1: Import necessary libraries"
   ]
  },
  {
   "cell_type": "code",
   "execution_count": 1,
   "metadata": {},
   "outputs": [],
   "source": [
    "import pandas as pd\n",
    "import numpy as np\n",
    "from matplotlib import pyplot as plt\n",
    "import seaborn as sns\n",
    "\n",
    "from sklearn.feature_selection import SelectKBest, chi2, f_classif, SelectPercentile\n",
    "\n",
    "from sklearn.model_selection import (cross_val_score, train_test_split)\n",
    "from sklearn.metrics import (confusion_matrix, classification_report, accuracy_score)\n",
    "\n",
    "from xgboost import XGBClassifier\n",
    "from sklearn.linear_model import LogisticRegression\n",
    "from sklearn.ensemble import RandomForestClassifier\n",
    "from sklearn.tree import DecisionTreeClassifier\n",
    "from sklearn.model_selection import StratifiedKFold\n",
    "from sklearn.neighbors import KNeighborsClassifier\n",
    "from sklearn.discriminant_analysis import LinearDiscriminantAnalysis\n",
    "from sklearn.naive_bayes import GaussianNB\n",
    "from sklearn.svm import SVC"
   ]
  },
  {
   "cell_type": "code",
   "execution_count": 2,
   "metadata": {},
   "outputs": [],
   "source": [
    "# import warnings filter\n",
    "from warnings import simplefilter, filterwarnings\n",
    "# ignore all future warnings\n",
    "simplefilter(action='ignore', category=FutureWarning)\n",
    "filterwarnings(\"error\", message=\".*check_inverse*.\", category=UserWarning, append=False)"
   ]
  },
  {
   "cell_type": "markdown",
   "metadata": {},
   "source": [
    "## Step 2: Load data\n",
    "### Column Details ###\n",
    "Y = target attribute (Y) with values indicating 0 (unhappy) and 1 (happy) customers <br>\n",
    "X1 = my order was delivered on time <br>\n",
    "X2 = contents of my order was as I expected <br>\n",
    "X3 = I ordered everything I wanted to order <br>\n",
    "X4 = I paid a good price for my order <br>\n",
    "X5 = I am satisfied with my courier <br>\n",
    "X6 = the app makes ordering easy for me <br>"
   ]
  },
  {
   "cell_type": "code",
   "execution_count": 3,
   "metadata": {},
   "outputs": [
    {
     "data": {
      "text/html": [
       "<div>\n",
       "<style scoped>\n",
       "    .dataframe tbody tr th:only-of-type {\n",
       "        vertical-align: middle;\n",
       "    }\n",
       "\n",
       "    .dataframe tbody tr th {\n",
       "        vertical-align: top;\n",
       "    }\n",
       "\n",
       "    .dataframe thead th {\n",
       "        text-align: right;\n",
       "    }\n",
       "</style>\n",
       "<table border=\"1\" class=\"dataframe\">\n",
       "  <thead>\n",
       "    <tr style=\"text-align: right;\">\n",
       "      <th></th>\n",
       "      <th>isHappy</th>\n",
       "      <th>OnTimeDelivery_Rating</th>\n",
       "      <th>ContentsAsExpected_Rating</th>\n",
       "      <th>OrderedEverything_Rating</th>\n",
       "      <th>GoodPrice_Rating</th>\n",
       "      <th>CourierSatisfaction_Rating</th>\n",
       "      <th>EasyApp_Rating</th>\n",
       "    </tr>\n",
       "  </thead>\n",
       "  <tbody>\n",
       "    <tr>\n",
       "      <th>0</th>\n",
       "      <td>0</td>\n",
       "      <td>3</td>\n",
       "      <td>3</td>\n",
       "      <td>3</td>\n",
       "      <td>4</td>\n",
       "      <td>2</td>\n",
       "      <td>4</td>\n",
       "    </tr>\n",
       "    <tr>\n",
       "      <th>1</th>\n",
       "      <td>0</td>\n",
       "      <td>3</td>\n",
       "      <td>2</td>\n",
       "      <td>3</td>\n",
       "      <td>5</td>\n",
       "      <td>4</td>\n",
       "      <td>3</td>\n",
       "    </tr>\n",
       "    <tr>\n",
       "      <th>2</th>\n",
       "      <td>1</td>\n",
       "      <td>5</td>\n",
       "      <td>3</td>\n",
       "      <td>3</td>\n",
       "      <td>3</td>\n",
       "      <td>3</td>\n",
       "      <td>5</td>\n",
       "    </tr>\n",
       "    <tr>\n",
       "      <th>3</th>\n",
       "      <td>0</td>\n",
       "      <td>5</td>\n",
       "      <td>4</td>\n",
       "      <td>3</td>\n",
       "      <td>3</td>\n",
       "      <td>3</td>\n",
       "      <td>5</td>\n",
       "    </tr>\n",
       "    <tr>\n",
       "      <th>4</th>\n",
       "      <td>0</td>\n",
       "      <td>5</td>\n",
       "      <td>4</td>\n",
       "      <td>3</td>\n",
       "      <td>3</td>\n",
       "      <td>3</td>\n",
       "      <td>5</td>\n",
       "    </tr>\n",
       "  </tbody>\n",
       "</table>\n",
       "</div>"
      ],
      "text/plain": [
       "   isHappy  OnTimeDelivery_Rating  ContentsAsExpected_Rating  \\\n",
       "0        0                      3                          3   \n",
       "1        0                      3                          2   \n",
       "2        1                      5                          3   \n",
       "3        0                      5                          4   \n",
       "4        0                      5                          4   \n",
       "\n",
       "   OrderedEverything_Rating  GoodPrice_Rating  CourierSatisfaction_Rating  \\\n",
       "0                         3                 4                           2   \n",
       "1                         3                 5                           4   \n",
       "2                         3                 3                           3   \n",
       "3                         3                 3                           3   \n",
       "4                         3                 3                           3   \n",
       "\n",
       "   EasyApp_Rating  \n",
       "0               4  \n",
       "1               3  \n",
       "2               5  \n",
       "3               5  \n",
       "4               5  "
      ]
     },
     "execution_count": 3,
     "metadata": {},
     "output_type": "execute_result"
    }
   ],
   "source": [
    "colNames = ['isHappy', 'OnTimeDelivery_Rating','ContentsAsExpected_Rating','OrderedEverything_Rating',\n",
    "           'GoodPrice_Rating','CourierSatisfaction_Rating','EasyApp_Rating']\n",
    "custData = pd.read_csv('ACME-HappinessSurvey2020.csv', names=colNames, header =0)\n",
    "custData.head()"
   ]
  },
  {
   "cell_type": "code",
   "execution_count": 4,
   "metadata": {},
   "outputs": [
    {
     "data": {
      "text/html": [
       "<div>\n",
       "<style scoped>\n",
       "    .dataframe tbody tr th:only-of-type {\n",
       "        vertical-align: middle;\n",
       "    }\n",
       "\n",
       "    .dataframe tbody tr th {\n",
       "        vertical-align: top;\n",
       "    }\n",
       "\n",
       "    .dataframe thead th {\n",
       "        text-align: right;\n",
       "    }\n",
       "</style>\n",
       "<table border=\"1\" class=\"dataframe\">\n",
       "  <thead>\n",
       "    <tr style=\"text-align: right;\">\n",
       "      <th></th>\n",
       "      <th>isHappy</th>\n",
       "      <th>OnTimeDelivery_Rating</th>\n",
       "      <th>ContentsAsExpected_Rating</th>\n",
       "      <th>OrderedEverything_Rating</th>\n",
       "      <th>GoodPrice_Rating</th>\n",
       "      <th>CourierSatisfaction_Rating</th>\n",
       "      <th>EasyApp_Rating</th>\n",
       "    </tr>\n",
       "  </thead>\n",
       "  <tbody>\n",
       "    <tr>\n",
       "      <th>0</th>\n",
       "      <td>0</td>\n",
       "      <td>3</td>\n",
       "      <td>3</td>\n",
       "      <td>3</td>\n",
       "      <td>4</td>\n",
       "      <td>2</td>\n",
       "      <td>4</td>\n",
       "    </tr>\n",
       "    <tr>\n",
       "      <th>1</th>\n",
       "      <td>0</td>\n",
       "      <td>3</td>\n",
       "      <td>2</td>\n",
       "      <td>3</td>\n",
       "      <td>5</td>\n",
       "      <td>4</td>\n",
       "      <td>3</td>\n",
       "    </tr>\n",
       "    <tr>\n",
       "      <th>2</th>\n",
       "      <td>1</td>\n",
       "      <td>5</td>\n",
       "      <td>3</td>\n",
       "      <td>3</td>\n",
       "      <td>3</td>\n",
       "      <td>3</td>\n",
       "      <td>5</td>\n",
       "    </tr>\n",
       "    <tr>\n",
       "      <th>3</th>\n",
       "      <td>0</td>\n",
       "      <td>5</td>\n",
       "      <td>4</td>\n",
       "      <td>3</td>\n",
       "      <td>3</td>\n",
       "      <td>3</td>\n",
       "      <td>5</td>\n",
       "    </tr>\n",
       "    <tr>\n",
       "      <th>4</th>\n",
       "      <td>0</td>\n",
       "      <td>5</td>\n",
       "      <td>4</td>\n",
       "      <td>3</td>\n",
       "      <td>3</td>\n",
       "      <td>3</td>\n",
       "      <td>5</td>\n",
       "    </tr>\n",
       "  </tbody>\n",
       "</table>\n",
       "</div>"
      ],
      "text/plain": [
       "   isHappy  OnTimeDelivery_Rating  ContentsAsExpected_Rating  \\\n",
       "0        0                      3                          3   \n",
       "1        0                      3                          2   \n",
       "2        1                      5                          3   \n",
       "3        0                      5                          4   \n",
       "4        0                      5                          4   \n",
       "\n",
       "   OrderedEverything_Rating  GoodPrice_Rating  CourierSatisfaction_Rating  \\\n",
       "0                         3                 4                           2   \n",
       "1                         3                 5                           4   \n",
       "2                         3                 3                           3   \n",
       "3                         3                 3                           3   \n",
       "4                         3                 3                           3   \n",
       "\n",
       "   EasyApp_Rating  \n",
       "0               4  \n",
       "1               3  \n",
       "2               5  \n",
       "3               5  \n",
       "4               5  "
      ]
     },
     "execution_count": 4,
     "metadata": {},
     "output_type": "execute_result"
    }
   ],
   "source": [
    "custData.head()"
   ]
  },
  {
   "cell_type": "code",
   "execution_count": 5,
   "metadata": {},
   "outputs": [
    {
     "name": "stdout",
     "output_type": "stream",
     "text": [
      "<class 'pandas.core.frame.DataFrame'>\n",
      "RangeIndex: 126 entries, 0 to 125\n",
      "Data columns (total 7 columns):\n",
      " #   Column                      Non-Null Count  Dtype\n",
      "---  ------                      --------------  -----\n",
      " 0   isHappy                     126 non-null    int64\n",
      " 1   OnTimeDelivery_Rating       126 non-null    int64\n",
      " 2   ContentsAsExpected_Rating   126 non-null    int64\n",
      " 3   OrderedEverything_Rating    126 non-null    int64\n",
      " 4   GoodPrice_Rating            126 non-null    int64\n",
      " 5   CourierSatisfaction_Rating  126 non-null    int64\n",
      " 6   EasyApp_Rating              126 non-null    int64\n",
      "dtypes: int64(7)\n",
      "memory usage: 7.0 KB\n"
     ]
    }
   ],
   "source": [
    "custData.info()"
   ]
  },
  {
   "cell_type": "code",
   "execution_count": 6,
   "metadata": {},
   "outputs": [
    {
     "data": {
      "text/html": [
       "<div>\n",
       "<style scoped>\n",
       "    .dataframe tbody tr th:only-of-type {\n",
       "        vertical-align: middle;\n",
       "    }\n",
       "\n",
       "    .dataframe tbody tr th {\n",
       "        vertical-align: top;\n",
       "    }\n",
       "\n",
       "    .dataframe thead th {\n",
       "        text-align: right;\n",
       "    }\n",
       "</style>\n",
       "<table border=\"1\" class=\"dataframe\">\n",
       "  <thead>\n",
       "    <tr style=\"text-align: right;\">\n",
       "      <th></th>\n",
       "      <th>isHappy</th>\n",
       "      <th>OnTimeDelivery_Rating</th>\n",
       "      <th>ContentsAsExpected_Rating</th>\n",
       "      <th>OrderedEverything_Rating</th>\n",
       "      <th>GoodPrice_Rating</th>\n",
       "      <th>CourierSatisfaction_Rating</th>\n",
       "      <th>EasyApp_Rating</th>\n",
       "    </tr>\n",
       "  </thead>\n",
       "  <tbody>\n",
       "    <tr>\n",
       "      <th>count</th>\n",
       "      <td>126.000000</td>\n",
       "      <td>126.000000</td>\n",
       "      <td>126.000000</td>\n",
       "      <td>126.000000</td>\n",
       "      <td>126.000000</td>\n",
       "      <td>126.000000</td>\n",
       "      <td>126.000000</td>\n",
       "    </tr>\n",
       "    <tr>\n",
       "      <th>mean</th>\n",
       "      <td>0.547619</td>\n",
       "      <td>4.333333</td>\n",
       "      <td>2.531746</td>\n",
       "      <td>3.309524</td>\n",
       "      <td>3.746032</td>\n",
       "      <td>3.650794</td>\n",
       "      <td>4.253968</td>\n",
       "    </tr>\n",
       "    <tr>\n",
       "      <th>std</th>\n",
       "      <td>0.499714</td>\n",
       "      <td>0.800000</td>\n",
       "      <td>1.114892</td>\n",
       "      <td>1.023440</td>\n",
       "      <td>0.875776</td>\n",
       "      <td>1.147641</td>\n",
       "      <td>0.809311</td>\n",
       "    </tr>\n",
       "    <tr>\n",
       "      <th>min</th>\n",
       "      <td>0.000000</td>\n",
       "      <td>1.000000</td>\n",
       "      <td>1.000000</td>\n",
       "      <td>1.000000</td>\n",
       "      <td>1.000000</td>\n",
       "      <td>1.000000</td>\n",
       "      <td>1.000000</td>\n",
       "    </tr>\n",
       "    <tr>\n",
       "      <th>25%</th>\n",
       "      <td>0.000000</td>\n",
       "      <td>4.000000</td>\n",
       "      <td>2.000000</td>\n",
       "      <td>3.000000</td>\n",
       "      <td>3.000000</td>\n",
       "      <td>3.000000</td>\n",
       "      <td>4.000000</td>\n",
       "    </tr>\n",
       "    <tr>\n",
       "      <th>50%</th>\n",
       "      <td>1.000000</td>\n",
       "      <td>5.000000</td>\n",
       "      <td>3.000000</td>\n",
       "      <td>3.000000</td>\n",
       "      <td>4.000000</td>\n",
       "      <td>4.000000</td>\n",
       "      <td>4.000000</td>\n",
       "    </tr>\n",
       "    <tr>\n",
       "      <th>75%</th>\n",
       "      <td>1.000000</td>\n",
       "      <td>5.000000</td>\n",
       "      <td>3.000000</td>\n",
       "      <td>4.000000</td>\n",
       "      <td>4.000000</td>\n",
       "      <td>4.000000</td>\n",
       "      <td>5.000000</td>\n",
       "    </tr>\n",
       "    <tr>\n",
       "      <th>max</th>\n",
       "      <td>1.000000</td>\n",
       "      <td>5.000000</td>\n",
       "      <td>5.000000</td>\n",
       "      <td>5.000000</td>\n",
       "      <td>5.000000</td>\n",
       "      <td>5.000000</td>\n",
       "      <td>5.000000</td>\n",
       "    </tr>\n",
       "  </tbody>\n",
       "</table>\n",
       "</div>"
      ],
      "text/plain": [
       "          isHappy  OnTimeDelivery_Rating  ContentsAsExpected_Rating  \\\n",
       "count  126.000000             126.000000                 126.000000   \n",
       "mean     0.547619               4.333333                   2.531746   \n",
       "std      0.499714               0.800000                   1.114892   \n",
       "min      0.000000               1.000000                   1.000000   \n",
       "25%      0.000000               4.000000                   2.000000   \n",
       "50%      1.000000               5.000000                   3.000000   \n",
       "75%      1.000000               5.000000                   3.000000   \n",
       "max      1.000000               5.000000                   5.000000   \n",
       "\n",
       "       OrderedEverything_Rating  GoodPrice_Rating  CourierSatisfaction_Rating  \\\n",
       "count                126.000000        126.000000                  126.000000   \n",
       "mean                   3.309524          3.746032                    3.650794   \n",
       "std                    1.023440          0.875776                    1.147641   \n",
       "min                    1.000000          1.000000                    1.000000   \n",
       "25%                    3.000000          3.000000                    3.000000   \n",
       "50%                    3.000000          4.000000                    4.000000   \n",
       "75%                    4.000000          4.000000                    4.000000   \n",
       "max                    5.000000          5.000000                    5.000000   \n",
       "\n",
       "       EasyApp_Rating  \n",
       "count      126.000000  \n",
       "mean         4.253968  \n",
       "std          0.809311  \n",
       "min          1.000000  \n",
       "25%          4.000000  \n",
       "50%          4.000000  \n",
       "75%          5.000000  \n",
       "max          5.000000  "
      ]
     },
     "execution_count": 6,
     "metadata": {},
     "output_type": "execute_result"
    }
   ],
   "source": [
    "custData.describe()"
   ]
  },
  {
   "cell_type": "markdown",
   "metadata": {},
   "source": [
    "### Based on above details, the independent variables does not have any null values or zero value. Hence, it is not required impute any missing data or any data cleaning."
   ]
  },
  {
   "cell_type": "markdown",
   "metadata": {},
   "source": [
    "## Step 3: Data Exploration"
   ]
  },
  {
   "cell_type": "markdown",
   "metadata": {},
   "source": [
    "### A] As per below graph, the data is not highly imbalanced."
   ]
  },
  {
   "cell_type": "code",
   "execution_count": 7,
   "metadata": {},
   "outputs": [
    {
     "data": {
      "image/png": "[encoded data removed]",
      "text/plain": [
       "<Figure size 432x288 with 1 Axes>"
      ]
     },
     "metadata": {
      "needs_background": "light"
     },
     "output_type": "display_data"
    }
   ],
   "source": [
    "fig, ax = plt.subplots()\n",
    "s = custData.groupby(['isHappy']).size().sort_values(ascending=True)\n",
    "ylabel = ('Not_Happy','Happy')\n",
    "y_pos = np.arange(len(ylabel))\n",
    "ax.barh(y_pos, s, align='center')\n",
    "ax.set_yticks(y_pos)\n",
    "ax.set_yticklabels(ylabel)\n",
    "[ax.text(v, i, \" \"+str(v), va='center', fontweight='bold') for i, v in enumerate(s)];\n",
    "_ = plt.title('Total count of each class of customers')\n",
    "plt.show()"
   ]
  },
  {
   "cell_type": "markdown",
   "metadata": {},
   "source": [
    "### B] Below graph shows variation of data for each independent variables with respect to dependent variable. It shows how happy and not happy customers have provided ratings in each category.\n",
    "\n",
    "### In most of the category, happy customers have rated higher. But for category 'ContentsAsExpected_Rating', many happy customers have rated low as compared to unhappy customers."
   ]
  },
  {
   "cell_type": "code",
   "execution_count": 8,
   "metadata": {},
   "outputs": [
    {
     "data": {
      "image/png": "[encoded data removed]",
      "text/plain": [
       "<Figure size 1080x432 with 6 Axes>"
      ]
     },
     "metadata": {
      "needs_background": "light"
     },
     "output_type": "display_data"
    }
   ],
   "source": [
    "fig,ax = plt.subplots(nrows=1,ncols=6,figsize=(15,6))\n",
    "custData.groupby(['isHappy','OnTimeDelivery_Rating']).size().unstack('isHappy').plot(kind='bar',ax=ax[0],rot=0)\n",
    "custData.groupby(['isHappy','ContentsAsExpected_Rating']).size().unstack('isHappy').plot(kind='bar',ax=ax[1],rot=0)\n",
    "custData.groupby(['isHappy','OrderedEverything_Rating']).size().unstack('isHappy').plot(kind='bar',ax=ax[2],rot=0)\n",
    "custData.groupby(['isHappy','GoodPrice_Rating']).size().unstack('isHappy').plot(kind='bar',ax=ax[3],rot=0)\n",
    "custData.groupby(['isHappy','CourierSatisfaction_Rating']).size().unstack('isHappy').plot(kind='bar',ax=ax[4],rot=0)\n",
    "custData.groupby(['isHappy','EasyApp_Rating']).size().unstack('isHappy').plot(kind='bar',ax=ax[5],rot=0)\n",
    "plt.tight_layout()"
   ]
  },
  {
   "cell_type": "markdown",
   "metadata": {},
   "source": [
    "### C] From the heatmap below, we can identify how the variables are correlated. The dependent variable 'isHappy' has negative correlation with 'ContentsAsExpected_Rating'. And based on the values, it seems that it has more positive correlation with fields 'OnTimeDelivery_Rating' and 'CourierSatisfaction_Rating'.\n",
    "\n",
    "### There is not any strong correlation between independent variables. But, 'ContentsAsExpected_Rating' has negative correlation with 'EasyApp_Rating'."
   ]
  },
  {
   "cell_type": "code",
   "execution_count": 9,
   "metadata": {},
   "outputs": [
    {
     "data": {
      "image/png": "[encoded data removed]",
      "text/plain": [
       "<Figure size 432x288 with 2 Axes>"
      ]
     },
     "metadata": {
      "needs_background": "light"
     },
     "output_type": "display_data"
    }
   ],
   "source": [
    "pearsoncorr = custData.corr(method='pearson')\n",
    "_ = sns.heatmap(pearsoncorr, \n",
    "            xticklabels=pearsoncorr.columns,\n",
    "            yticklabels=pearsoncorr.columns,\n",
    "            cmap='RdBu_r',\n",
    "            annot=True,\n",
    "            linewidth=0.5)"
   ]
  },
  {
   "cell_type": "code",
   "execution_count": 10,
   "metadata": {},
   "outputs": [],
   "source": [
    "dataset = custData.values\n",
    "y = dataset[:,0]\n",
    "X = dataset[:,1:]\n",
    "# split into train and test sets\n",
    "X_train, X_test, y_train, y_test = train_test_split(X, y, test_size=0.25, random_state=1, stratify=y)"
   ]
  },
  {
   "cell_type": "markdown",
   "metadata": {},
   "source": [
    "## Step 4: Feature Selection"
   ]
  },
  {
   "cell_type": "code",
   "execution_count": 11,
   "metadata": {},
   "outputs": [
    {
     "name": "stdout",
     "output_type": "stream",
     "text": [
      "Feature(0) OnTimeDelivery_Rating: 0.560653\n",
      "Feature(1) ContentsAsExpected_Rating: 0.018557\n",
      "Feature(2) OrderedEverything_Rating: 1.609246\n",
      "Feature(3) GoodPrice_Rating: 0.312048\n",
      "Feature(4) CourierSatisfaction_Rating: 2.130244\n",
      "Feature(5) EasyApp_Rating: 0.265720\n"
     ]
    },
    {
     "data": {
      "image/png": "[encoded data removed]",
      "text/plain": [
       "<Figure size 432x288 with 1 Axes>"
      ]
     },
     "metadata": {
      "needs_background": "light"
     },
     "output_type": "display_data"
    }
   ],
   "source": [
    "# feature selection\n",
    "fs = SelectKBest(score_func=chi2, k='all')\n",
    "fs.fit(X_train, y_train)\n",
    "X_train_fs = fs.transform(X_train)\n",
    "X_test_fs = fs.transform(X_test)\n",
    "\n",
    "# scores for features\n",
    "feature_names = ['OnTimeDelivery_Rating','ContentsAsExpected_Rating','OrderedEverything_Rating',\n",
    "           'GoodPrice_Rating','CourierSatisfaction_Rating','EasyApp_Rating']\n",
    "for i in range(len(fs.scores_)):\n",
    "    print('Feature(%d) %s: %f' % (i, feature_names[i], fs.scores_[i]))\n",
    "\n",
    "# plot the scores\n",
    "plt.bar([i for i in range(len(fs.scores_))], fs.scores_)\n",
    "plt.show()"
   ]
  },
  {
   "cell_type": "markdown",
   "metadata": {},
   "source": [
    "### From the graph plotted above and below, we can conclude that 'ContentAsExpected_Rating' has least score among all features. So, we can try using only 5 out of these 6 features to train our model."
   ]
  },
  {
   "cell_type": "code",
   "execution_count": 12,
   "metadata": {},
   "outputs": [
    {
     "name": "stdout",
     "output_type": "stream",
     "text": [
      "Feature(0) OnTimeDelivery_Rating: 3.796648\n",
      "Feature(1) ContentsAsExpected_Rating: 0.037783\n",
      "Feature(2) OrderedEverything_Rating: 4.860837\n",
      "Feature(3) GoodPrice_Rating: 1.756607\n",
      "Feature(4) CourierSatisfaction_Rating: 6.257413\n",
      "Feature(5) EasyApp_Rating: 1.973800\n"
     ]
    },
    {
     "data": {
      "image/png": "[encoded data removed]",
      "text/plain": [
       "<Figure size 432x288 with 1 Axes>"
      ]
     },
     "metadata": {
      "needs_background": "light"
     },
     "output_type": "display_data"
    }
   ],
   "source": [
    "# feature selection\n",
    "fsc = SelectKBest(score_func=f_classif, k='all')\n",
    "fsc.fit(X_train, y_train)\n",
    "X_train_fsc = fsc.transform(X_train)\n",
    "X_test_fsc = fsc.transform(X_test)\n",
    "\n",
    "# sscores for features\n",
    "feature_names = ['OnTimeDelivery_Rating','ContentsAsExpected_Rating','OrderedEverything_Rating',\n",
    "           'GoodPrice_Rating','CourierSatisfaction_Rating','EasyApp_Rating']\n",
    "for i in range(len(fsc.scores_)):\n",
    "    print('Feature(%d) %s: %f' % (i, feature_names[i], fsc.scores_[i]))\n",
    "\n",
    "# plot the scores\n",
    "plt.bar([i for i in range(len(fsc.scores_))], fsc.scores_)\n",
    "plt.show()"
   ]
  },
  {
   "cell_type": "markdown",
   "metadata": {},
   "source": [
    "## Step 5: Creating Model"
   ]
  },
  {
   "cell_type": "markdown",
   "metadata": {},
   "source": [
    "### Before selecting specific features, lets first find out how different models behave using all the features. Here, we will also use Cross Validation "
   ]
  },
  {
   "cell_type": "code",
   "execution_count": 25,
   "metadata": {},
   "outputs": [],
   "source": [
    "def model_performance(Xlr,ylr):\n",
    "    # Spot Check Algorithms\n",
    "    models = []\n",
    "    models.append(('LR', LogisticRegression(solver='liblinear', multi_class='ovr')))\n",
    "    models.append(('LDA', LinearDiscriminantAnalysis()))\n",
    "    models.append(('KNN', KNeighborsClassifier()))\n",
    "    models.append(('CART', DecisionTreeClassifier()))\n",
    "    models.append(('NB', GaussianNB()))\n",
    "    models.append(('SVM', SVC(gamma='auto')))\n",
    "    models.append(('RF', RandomForestClassifier(max_depth=6, random_state=1)))\n",
    "    ratio = float(np.sum(ylr == 0)) / np.sum(ylr==1)\n",
    "    models.append(('XGB', XGBClassifier(scale_pos_weight = ratio, learning_rate =0.01,\n",
    "                        objective= 'binary:logistic', use_label_encoder=False, eval_metric='error')))\n",
    "\n",
    "    # evaluate each model in turn\n",
    "    results = []\n",
    "    names = []\n",
    "    for name, model in models:\n",
    "        kfold = StratifiedKFold(n_splits=10, random_state=1, shuffle=True)\n",
    "        cv_results = cross_val_score(model, Xlr, ylr, cv=kfold, scoring='accuracy')\n",
    "        results.append(cv_results)\n",
    "        names.append(name)\n",
    "        print('%s: %.2f (%.2f)' % (name, cv_results.mean()*100, cv_results.std()))\n",
    "    _ = plt.bar(names,np.mean(results, axis=1)*100)"
   ]
  },
  {
   "cell_type": "markdown",
   "metadata": {},
   "source": [
    "### We can infer from below graph that the ensemble model Random Forest Classifier and Extreme Gradient Boosting (XGBoost) Classifier performs better than linear models and trees."
   ]
  },
  {
   "cell_type": "code",
   "execution_count": 30,
   "metadata": {},
   "outputs": [
    {
     "name": "stdout",
     "output_type": "stream",
     "text": [
      "LR: 57.64 (0.18)\n",
      "LDA: 54.31 (0.15)\n",
      "KNN: 42.78 (0.20)\n",
      "CART: 59.17 (0.12)\n",
      "NB: 52.08 (0.13)\n",
      "SVM: 53.06 (0.17)\n",
      "RF: 61.11 (0.12)\n",
      "XGB: 61.53 (0.12)\n"
     ]
    },
    {
     "data": {
      "image/png": "[encoded data removed]",
      "text/plain": [
       "<Figure size 432x288 with 1 Axes>"
      ]
     },
     "metadata": {
      "needs_background": "light"
     },
     "output_type": "display_data"
    }
   ],
   "source": [
    "model_performance(X_train, y_train)"
   ]
  },
  {
   "cell_type": "markdown",
   "metadata": {},
   "source": [
    "### Now by just considering required features, lets evaluate above models again. Based on the feature scores, lets set the value of k=3."
   ]
  },
  {
   "cell_type": "code",
   "execution_count": 31,
   "metadata": {},
   "outputs": [],
   "source": [
    "# feature selection\n",
    "def select_features_chi(X_train, y_train, X_test):\n",
    "    fs = SelectKBest(score_func=f_classif, k=3)\n",
    "    fs.fit(X_train, y_train)\n",
    "    X_train_fs = fs.transform(X_train)\n",
    "    X_test_fs = fs.transform(X_test)\n",
    "    return X_train_fs, X_test_fs, fs"
   ]
  },
  {
   "cell_type": "code",
   "execution_count": 32,
   "metadata": {},
   "outputs": [],
   "source": [
    "# split into train and test sets\n",
    "X_train, X_test, y_train, y_test = train_test_split(X, y, test_size=0.3, random_state=1, stratify=y)\n",
    "\n",
    "# feature selection (chi2)\n",
    "X_train_cfs, X_test_cfs, cfs = select_features_chi(X_train, y_train, X_test)"
   ]
  },
  {
   "cell_type": "code",
   "execution_count": 33,
   "metadata": {
    "scrolled": true
   },
   "outputs": [
    {
     "name": "stdout",
     "output_type": "stream",
     "text": [
      "LR: 57.78 (0.16)\n",
      "LDA: 58.75 (0.15)\n",
      "KNN: 57.64 (0.13)\n",
      "CART: 66.94 (0.11)\n",
      "NB: 60.00 (0.13)\n",
      "SVM: 56.67 (0.09)\n",
      "RF: 69.17 (0.13)\n",
      "XGB: 62.50 (0.11)\n"
     ]
    },
    {
     "data": {
      "image/png": "[encoded data removed]",
      "text/plain": [
       "<Figure size 432x288 with 1 Axes>"
      ]
     },
     "metadata": {
      "needs_background": "light"
     },
     "output_type": "display_data"
    }
   ],
   "source": [
    "model_performance(X_train_cfs, y_train)"
   ]
  },
  {
   "cell_type": "code",
   "execution_count": 34,
   "metadata": {},
   "outputs": [
    {
     "name": "stdout",
     "output_type": "stream",
     "text": [
      "Testing Accuracy: 55.26 \n",
      "\n",
      "Confusion matrix:\n",
      "[[14  3]\n",
      " [14  7]]\n",
      "\n",
      "Classification Report:\n",
      "\n",
      "              precision    recall  f1-score   support\n",
      "\n",
      "           0       0.50      0.82      0.62        17\n",
      "           1       0.70      0.33      0.45        21\n",
      "\n",
      "    accuracy                           0.55        38\n",
      "   macro avg       0.60      0.58      0.54        38\n",
      "weighted avg       0.61      0.55      0.53        38\n",
      "\n"
     ]
    }
   ],
   "source": [
    "rfcModel = RandomForestClassifier(max_depth=6, random_state=1)\n",
    "rfcModel.fit(X_train_cfs, y_train)\n",
    "predictions = rfcModel.predict(X_test_cfs)\n",
    "\n",
    "# Evaluate predictions\n",
    "print('Testing Accuracy: %.2f \\n' % (accuracy_score(y_test, predictions)*100))\n",
    "print('Confusion matrix:')\n",
    "print(confusion_matrix(y_test, predictions))\n",
    "print('\\nClassification Report:\\n')\n",
    "print(classification_report(y_test, predictions))"
   ]
  },
  {
   "cell_type": "code",
   "execution_count": 35,
   "metadata": {},
   "outputs": [
    {
     "name": "stdout",
     "output_type": "stream",
     "text": [
      "Testing Accuracy: 55.26 \n",
      "\n",
      "Confusion matrix:\n",
      "[[13  4]\n",
      " [13  8]]\n",
      "\n",
      "Classification Report:\n",
      "\n",
      "              precision    recall  f1-score   support\n",
      "\n",
      "           0       0.50      0.76      0.60        17\n",
      "           1       0.67      0.38      0.48        21\n",
      "\n",
      "    accuracy                           0.55        38\n",
      "   macro avg       0.58      0.57      0.54        38\n",
      "weighted avg       0.59      0.55      0.54        38\n",
      "\n"
     ]
    }
   ],
   "source": [
    "ratio = float(np.sum(y_train == 0)) / np.sum(y_train==1)\n",
    "xgbModel = XGBClassifier(scale_pos_weight = ratio, learning_rate =0.1,\n",
    "                        objective= 'binary:logistic', use_label_encoder=False, eval_metric='error')\n",
    "xgbModel.fit(X_train_cfs, y_train)\n",
    "predictions = xgbModel.predict(X_test_cfs)\n",
    "\n",
    "# Evaluate predictions\n",
    "print('Testing Accuracy: %.2f \\n' % (accuracy_score(y_test, predictions)*100))\n",
    "print('Confusion matrix:')\n",
    "print(confusion_matrix(y_test, predictions))\n",
    "print('\\nClassification Report:\\n')\n",
    "print(classification_report(y_test, predictions))"
   ]
  },
  {
   "cell_type": "code",
   "execution_count": 36,
   "metadata": {},
   "outputs": [
    {
     "name": "stdout",
     "output_type": "stream",
     "text": [
      "Testing Accuracy: 55.26 \n",
      "\n",
      "Confusion matrix:\n",
      "[[13  4]\n",
      " [13  8]]\n",
      "\n",
      "Classification Report:\n",
      "\n",
      "              precision    recall  f1-score   support\n",
      "\n",
      "           0       0.50      0.76      0.60        17\n",
      "           1       0.67      0.38      0.48        21\n",
      "\n",
      "    accuracy                           0.55        38\n",
      "   macro avg       0.58      0.57      0.54        38\n",
      "weighted avg       0.59      0.55      0.54        38\n",
      "\n"
     ]
    }
   ],
   "source": [
    "decModel = DecisionTreeClassifier()\n",
    "decModel.fit(X_train_cfs, y_train)\n",
    "predictions = decModel.predict(X_test_cfs)\n",
    "\n",
    "# Evaluate predictions\n",
    "print('Testing Accuracy: %.2f \\n' % (accuracy_score(y_test, predictions)*100))\n",
    "print('Confusion matrix:')\n",
    "print(confusion_matrix(y_test, predictions))\n",
    "print('\\nClassification Report:\\n')\n",
    "print(classification_report(y_test, predictions))"
   ]
  },
  {
   "cell_type": "markdown",
   "metadata": {},
   "source": [
    "## Conclusion:\n",
    "\n",
    "### Even though the training accuracy of these two models i.e. RandomForestClassifier and XGBoostClassifier was more (69.17 and 62.50 respectively), the testing accuracy is reduced (both 55.26). This might be because the model is overfitting. Also, we can increase the training data by bagging and boosting the dataset.\n",
    "\n",
    "\n",
    "### We can further improve the model performance by pipelining different model together to create customized ensemble model. \n",
    "\n",
    "### Based on our previous observation, we can conclude that since the score for feature 'X2 = contents of my order was as I expected' was too low, we can remove this question from next survey. And, seems like feature 'X5 = I am satisfied with my courier' has more importance in predicting a customer's happiness."
   ]
  },
  {
   "cell_type": "code",
   "execution_count": null,
   "metadata": {},
   "outputs": [],
   "source": []
  }
 ],
 "metadata": {
  "kernelspec": {
   "display_name": "Python 3",
   "language": "python",
   "name": "python3"
  },
  "language_info": {
   "codemirror_mode": {
    "name": "ipython",
    "version": 3
   },
   "file_extension": ".py",
   "mimetype": "text/x-python",
   "name": "python",
   "nbconvert_exporter": "python",
   "pygments_lexer": "ipython3",
   "version": "3.9.2"
  }
 },
 "nbformat": 4,
 "nbformat_minor": 4
}
